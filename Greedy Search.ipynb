{
 "cells": [
  {
   "cell_type": "markdown",
   "metadata": {},
   "source": [
    "## Priority Queue"
   ]
  },
  {
   "cell_type": "code",
   "execution_count": 11,
   "metadata": {},
   "outputs": [],
   "source": [
    "class PriorityQueue():\n",
    "    def __init__(self,item,cost):\n",
    "        self.items = {cost:[item]}\n",
    "        self.costs = {cost}\n",
    "    \n",
    "    def isEmpty(self):\n",
    "        return self.items == {}\n",
    "    \n",
    "    def dequeue(self):\n",
    "        least_cost = sorted(self.costs)[0]\n",
    "        item = self.items[least_cost].pop(0)\n",
    "        if len(self.items[least_cost]) == 0:\n",
    "            self.costs.remove(least_cost)\n",
    "            del self.items[least_cost]\n",
    "        return item\n",
    "    \n",
    "    def enqueue(self,item,cost):\n",
    "        if cost in self.costs:\n",
    "            self.items[cost].append(item)    \n",
    "        else:\n",
    "            self.items[cost] = [item]\n",
    "            self.costs.add(cost)\n",
    "            \n",
    "    def update_cost(self,item,old_cost,new_cost):\n",
    "        for i in self.items[old_cost]:\n",
    "            if i.board_config == item.board_config:\n",
    "                self.items[old_cost].remove(i)\n",
    "                break\n",
    "        if len(self.items[old_cost]) == 0:\n",
    "            self.costs.remove(old_cost)\n",
    "            del self.items[old_cost]\n",
    "        if new_cost in self.costs:\n",
    "            self.items[new_cost].append(item)\n",
    "        else:\n",
    "            self.items[new_cost] = [item]\n",
    "            self.costs.add(new_cost)"
   ]
  },
  {
   "cell_type": "markdown",
   "metadata": {},
   "source": [
    "## 8-puzzle state"
   ]
  },
  {
   "cell_type": "code",
   "execution_count": 12,
   "metadata": {},
   "outputs": [],
   "source": [
    "class State():\n",
    "    right = {0,1,3,4,6,7}\n",
    "    left = {1,2,4,5,7,8}\n",
    "    up = {3,4,5,6,7,8}\n",
    "    down = {0,1,2,3,4,5}\n",
    "    \n",
    "    def __init__(self, board_config, parent, move, depth):\n",
    "        self.board_config = board_config #board configuration of the current state in a string\n",
    "        self.board_config_list = list(map(int,board_config.split(','))) #board configuration of the current state in a list\n",
    "        self.i = self.board_config_list.index(0) #index of empty space in board (index of 0 in this case)\n",
    "        self.parent = parent #parent state (node) of the present state\n",
    "        self.move = move #the move (Up,Down,Left,Right) made in parent state that results in the present state \n",
    "        self.depth = depth #depth of the node in the search tree\n",
    "        \n",
    "    def get_children(self):\n",
    "        \"\"\"returns the list of all possible states reachable from the current state,\n",
    "        each child in the list is a State object\"\"\"\n",
    "        children = []\n",
    "        if self.i in State.up:\n",
    "            new_board_config = self.board_config_list[:]\n",
    "            new_board_config[self.i],new_board_config[self.i-3] = new_board_config[self.i-3],new_board_config[self.i]\n",
    "            children.append(State(','.join(map(str,new_board_config)),self.board_config,'Up',self.depth+1))\n",
    "        if self.i in State.down:\n",
    "            new_board_config = self.board_config_list[:]\n",
    "            new_board_config[self.i],new_board_config[self.i+3] = new_board_config[self.i+3],new_board_config[self.i]\n",
    "            children.append(State(','.join(map(str,new_board_config)),self.board_config,'Down',self.depth+1))\n",
    "        if self.i in State.left:\n",
    "            new_board_config = self.board_config_list[:]\n",
    "            new_board_config[self.i],new_board_config[self.i-1] = new_board_config[self.i-1],new_board_config[self.i]\n",
    "            children.append(State(','.join(map(str,new_board_config)),self.board_config,'Left',self.depth+1))\n",
    "        if self.i in State.right:\n",
    "            new_board_config = self.board_config_list[:]\n",
    "            new_board_config[self.i],new_board_config[self.i+1] = new_board_config[self.i+1],new_board_config[self.i]\n",
    "            children.append(State(','.join(map(str,new_board_config)),self.board_config,'Right',self.depth+1))\n",
    "        return children\n",
    "    def __str__(self):\n",
    "        return self.board_config"
   ]
  },
  {
   "cell_type": "markdown",
   "metadata": {},
   "source": [
    "## Greedy Search Implementation"
   ]
  },
  {
   "cell_type": "code",
   "execution_count": 16,
   "metadata": {},
   "outputs": [
    {
     "name": "stdout",
     "output_type": "stream",
     "text": [
      "14\n"
     ]
    }
   ],
   "source": [
    "def calculate_cost(board_config_list):\n",
    "    \"\"\"Heuristic function h(n) for 8-ball puzzle. Calculates manhattan distance for each \n",
    "        misplaced item and returns the sum\"\"\"\n",
    "    board_position = {\n",
    "        0: (0, 0),\n",
    "        1: (0, 1),\n",
    "        2: (0, 2),\n",
    "        3: (1, 0),\n",
    "        4: (1, 1),\n",
    "        5: (1, 2),\n",
    "        6: (2, 0),\n",
    "        7: (2, 1),\n",
    "        8: (2, 2)\n",
    "    }\n",
    "    \n",
    "    cost = 0\n",
    "    \n",
    "    for i in range(0, len(board_config_list)):\n",
    "        if board_config_list[i] != 0:\n",
    "            item = board_config_list[i]\n",
    "            man_distance = abs(board_position[item][0] - board_position[i][0]) + abs(board_position[item][1] - board_position[i][1])\n",
    "            cost += man_distance\n",
    "    \n",
    "    return cost\n",
    "\n",
    "print(calculate_cost([5,3,0,7,1,2,8,4,6]))"
   ]
  },
  {
   "cell_type": "code",
   "execution_count": 14,
   "metadata": {},
   "outputs": [],
   "source": [
    "def greedy_search(initial_state, goal):\n",
    "    frontier = PriorityQueue(initial_state, 0)\n",
    "    frontier_config_dict = {initial_state.board_config: 0}\n",
    "    explored = set()\n",
    "    search_space = {}\n",
    "    \n",
    "    while not frontier.isEmpty():\n",
    "        state = frontier.dequeue()\n",
    "        explored.add(state.board_config)\n",
    "        search_space[state.board_config] = state\n",
    "        \n",
    "        if state.board_config == goal:\n",
    "            path = []\n",
    "            current_state = state\n",
    "            \n",
    "            while not current_state.parent == None:\n",
    "                path.insert(0, current_state.move)\n",
    "                current_state = search_space[current_state.parent]\n",
    "            \n",
    "            return path, len(path)\n",
    "        \n",
    "        for child in state.get_children():\n",
    "            if child.board_config not in frontier_config_dict.keys() and child.board_config not in explored:\n",
    "                child_cost = calculate_cost(child.board_config_list)\n",
    "                frontier.enqueue(child, child_cost)\n",
    "                frontier_config_dict[child.board_config] = child_cost\n",
    "                \n",
    "            elif child.board_config in frontier_config_dict.keys():\n",
    "                new_cost = calculate_cost(child.board_config_list)\n",
    "                old_cost = frontier_config_dict[child.board_config]\n",
    "                if new_cost < old_cost:\n",
    "                    frontier.update_cost(child, old_cost, new_cost)\n",
    "                    frontier_config_dict[child.board_config] = new_cost\n",
    "    \n",
    "    return \"Failure\""
   ]
  },
  {
   "cell_type": "code",
   "execution_count": 21,
   "metadata": {},
   "outputs": [
    {
     "name": "stdout",
     "output_type": "stream",
     "text": [
      "(['Down', 'Left', 'Down', 'Left', 'Up', 'Up', 'Right', 'Down', 'Right', 'Down', 'Left', 'Left', 'Up', 'Up', 'Right', 'Down', 'Right', 'Up', 'Left', 'Left', 'Down', 'Right', 'Up', 'Right', 'Down', 'Down', 'Left', 'Left', 'Up', 'Right', 'Down', 'Right', 'Up', 'Left', 'Left', 'Up'], 36)\n",
      "time taken by greedy search: 0.003677845001220703\n"
     ]
    }
   ],
   "source": [
    "# Driver Code\n",
    "\n",
    "import time\n",
    "\n",
    "start_time = time.time()\n",
    "start = '5,3,0,7,1,2,8,4,6' \n",
    "goal = '0,1,2,3,4,5,6,7,8'\n",
    "initial_state = State(start, None, None, 0)\n",
    "\n",
    "print(greedy_search(initial_state, goal))\n",
    "end_time = time.time()\n",
    "print(\"time taken by greedy search:\",end_time - start_time) #print the time taken for execution"
   ]
  }
 ],
 "metadata": {
  "kernelspec": {
   "display_name": "Python 3",
   "language": "python",
   "name": "python3"
  },
  "language_info": {
   "codemirror_mode": {
    "name": "ipython",
    "version": 3
   },
   "file_extension": ".py",
   "mimetype": "text/x-python",
   "name": "python",
   "nbconvert_exporter": "python",
   "pygments_lexer": "ipython3",
   "version": "3.8.3"
  }
 },
 "nbformat": 4,
 "nbformat_minor": 4
}
