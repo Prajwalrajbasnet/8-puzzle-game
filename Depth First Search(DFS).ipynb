{
 "cells": [
  {
   "cell_type": "markdown",
   "metadata": {},
   "source": [
    "## Stack"
   ]
  },
  {
   "cell_type": "code",
   "execution_count": 1,
   "metadata": {},
   "outputs": [],
   "source": [
    "class Stack():\n",
    "    def __init__(self, initial):\n",
    "        self.items = [initial]\n",
    "    def is_empty(self):\n",
    "        return self.items == []\n",
    "    def push(self, item):\n",
    "        self.items.append(item)\n",
    "    def pop(self):\n",
    "        return self.items.pop()\n",
    "    def size(self):\n",
    "        return len(self.items)"
   ]
  },
  {
   "cell_type": "markdown",
   "metadata": {},
   "source": [
    "## 8-Ball Board State"
   ]
  },
  {
   "cell_type": "code",
   "execution_count": 2,
   "metadata": {},
   "outputs": [],
   "source": [
    "class State():\n",
    "    right = {0, 1, 3, 4, 6, 7}\n",
    "    left = {1, 2, 4, 5, 7, 8}\n",
    "    up = {3, 4, 5, 6, 7, 8}\n",
    "    down = {0, 1, 2, 3, 4, 5}\n",
    "    \n",
    "    def __init__(self, board_config, parent, move):\n",
    "        self.board_config = board_config  # board configuration of the current state in a string\n",
    "        self.board_config_list = list(map(int,board_config.split(',')))  # board configuration of the current state in a list\n",
    "        self.i = self.board_config_list.index(0)  # index of empty space in board (index of 0 in this case)\n",
    "        self.parent = parent  # parent state (node) of the present state\n",
    "        self.move = move  # the move (Up,Down,Left,Right) made in parent state that results in the present state \n",
    "        \n",
    "    def get_children(self):\n",
    "        \"\"\"returns the list of all possible states reachable from the current state,\n",
    "        each child in the list is a State object\"\"\"\n",
    "        children = []\n",
    "        if self.i in State.up:\n",
    "            new_board_config = self.board_config_list[:]\n",
    "            new_board_config[self.i], new_board_config[self.i-3] = new_board_config[self.i-3], new_board_config[self.i]\n",
    "            children.append(State(','.join(map(str,new_board_config)), self.board_config,'Up'))\n",
    "        if self.i in State.down:\n",
    "            new_board_config = self.board_config_list[:]\n",
    "            new_board_config[self.i], new_board_config[self.i+3] = new_board_config[self.i+3], new_board_config[self.i]\n",
    "            children.append(State(','.join(map(str,new_board_config)), self.board_config,'Down'))\n",
    "        if self.i in State.left:\n",
    "            new_board_config = self.board_config_list[:]\n",
    "            new_board_config[self.i], new_board_config[self.i-1] = new_board_config[self.i-1], new_board_config[self.i]\n",
    "            children.append(State(','.join(map(str,new_board_config)), self.board_config,'Left'))\n",
    "        if self.i in State.right:\n",
    "            new_board_config = self.board_config_list[:]\n",
    "            new_board_config[self.i], new_board_config[self.i+1] = new_board_config[self.i+1], new_board_config[self.i]\n",
    "            children.append(State(','.join(map(str,new_board_config)), self.board_config,'Right'))\n",
    "        return children\n",
    "\n",
    "    def __str__(self):\n",
    "        return self.board_config"
   ]
  },
  {
   "cell_type": "markdown",
   "metadata": {},
   "source": [
    "## Depth First Search (DFS) implementation"
   ]
  },
  {
   "cell_type": "code",
   "execution_count": 3,
   "metadata": {},
   "outputs": [],
   "source": [
    "def dfs(initial,goal):\n",
    "    \"\"\"takes the initial and goal states as input;returns the sequence of \n",
    "    moves required to get from the start to goal \n",
    "    and also the total number of moves\"\"\"\n",
    "\n",
    "    frontier = Stack(initial)\n",
    "    frontier_board_config_list = {initial.board_config}\n",
    "    explored = set()\n",
    "    search_space = {}\n",
    "\n",
    "    while not frontier.is_empty():\n",
    "        state = frontier.pop()\n",
    "        explored.add(state.board_config)\n",
    "        search_space[state.board_config] = state\n",
    "        \n",
    "        if goal == state.board_config:\n",
    "            best_path = []\n",
    "            current_state = state\n",
    "\n",
    "            while not current_state.parent == None:\n",
    "                best_path.insert(0, current_state.move)\n",
    "                current_state = search_space[current_state.parent]\n",
    "            \n",
    "            return best_path, len(best_path)\n",
    "    \n",
    "        for child in state.get_children():\n",
    "           if child.board_config not in explored and child not in frontier_board_config_list:\n",
    "               frontier.push(child)\n",
    "               frontier_board_config_list.add(child.board_config)\n",
    "    \n",
    "    return \"Failure\""
   ]
  },
  {
   "cell_type": "code",
   "execution_count": 5,
   "metadata": {},
   "outputs": [],
   "source": [
    "# Driver Code\n",
    "\n",
    "start = '5,3,0,7,1,2,8,4,6' \n",
    "goal = '0,1,2,3,4,5,6,7,8'\n",
    "initial_state = State(start, None, None)\n",
    "\n",
    "print(dfs(initial_state, goal))"
   ]
  }
 ],
 "metadata": {
  "kernelspec": {
   "display_name": "Python 3",
   "language": "python",
   "name": "python3"
  },
  "language_info": {
   "codemirror_mode": {
    "name": "ipython",
    "version": 3
   },
   "file_extension": ".py",
   "mimetype": "text/x-python",
   "name": "python",
   "nbconvert_exporter": "python",
   "pygments_lexer": "ipython3",
   "version": "3.8.3"
  }
 },
 "nbformat": 4,
 "nbformat_minor": 4
}
